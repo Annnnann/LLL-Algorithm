{
 "cells": [
  {
   "metadata": {
    "ExecuteTime": {
     "end_time": "2025-06-18T09:50:59.842758Z",
     "start_time": "2025-06-18T09:50:59.836495Z"
    }
   },
   "cell_type": "code",
   "source": [
    "import numpy as np\n",
    "\n",
    "def random_20d_lattice_basis(low=-100, high=101):\n",
    "    while True:\n",
    "        basis = np.random.randint(low, high, size=(10, 10))\n",
    "        if np.linalg.matrix_rank(basis) == 10:\n",
    "            return basis\n",
    "\n",
    "# 示例：生成一个二十维格基\n",
    "basis = random_20d_lattice_basis()\n",
    "print(basis)\n",
    "# 原始格基中最短的向量\n",
    "shortest_vector = min(basis, key=lambda v: np.linalg.norm(v))\n",
    "print(\"原始格基中最短的向量：\", shortest_vector)\n",
    "print(\"最短向量的范数：\", np.linalg.norm(shortest_vector))"
   ],
   "id": "8000553fa5565031",
   "outputs": [
    {
     "name": "stdout",
     "output_type": "stream",
     "text": [
      "[[  32   70    7   70  -59  -35  -22    7  -38   49]\n",
      " [   8  -84  -39  -21  -30   53   62   58   88  -30]\n",
      " [ -77   73  -14  -40  -43   74   16  -21   24 -100]\n",
      " [  15  -52  -29  -68   89   94   32   18  -18  -27]\n",
      " [ -57   61    6   10  -86  -36   19   73   60  -23]\n",
      " [  25  -59   30   -1   71  -19   80   96   69   46]\n",
      " [  -9   99  -34  -33    4   40   -1   44  -68  -98]\n",
      " [ -23   -6   94  -58   46   86  -28   96   58   97]\n",
      " [  32  -71  -96  -58   60   86   80  -51  -87  -40]\n",
      " [  -9   88   23   48   49  -20  -14  -97   26   98]]\n",
      "原始格基中最短的向量： [ 32  70   7  70 -59 -35 -22   7 -38  49]\n",
      "最短向量的范数： 141.2692464763651\n"
     ]
    }
   ],
   "execution_count": 29
  },
  {
   "metadata": {
    "ExecuteTime": {
     "end_time": "2025-06-18T09:50:59.876579Z",
     "start_time": "2025-06-18T09:50:59.857669Z"
    }
   },
   "cell_type": "code",
   "source": [
    "def gram_schmidt(B):\n",
    "    n = B.shape[0]\n",
    "    B_star = np.zeros_like(B, dtype=np.float64)\n",
    "    mu = np.zeros((n, n), dtype=np.float64)\n",
    "    for i in range(n):\n",
    "        B_star[i] = B[i]\n",
    "        for j in range(i):\n",
    "            mu[i, j] = np.dot(B[i], B_star[j]) / np.dot(B_star[j], B_star[j])\n",
    "            B_star[i] -= mu[i, j] * B_star[j]\n",
    "    return B_star, mu\n",
    "\n",
    "def lll_reduction(B, delta=0.75):\n",
    "    n = B.shape[0]\n",
    "    B = B.astype(np.int64)\n",
    "    k = 1\n",
    "    B_star, mu = gram_schmidt(B)\n",
    "    while k < n:\n",
    "        for j in range(k-1, -1, -1):\n",
    "            c = int(round(mu[k, j]))\n",
    "            if c != 0:\n",
    "                B[k] -= c * B[j]\n",
    "                B_star, mu = gram_schmidt(B)\n",
    "        if np.dot(B_star[k], B_star[k]) >= (delta - mu[k, k-1]**2) * np.dot(B_star[k-1], B_star[k-1]):\n",
    "            k += 1\n",
    "        else:\n",
    "            B[[k, k-1]] = B[[k-1, k]]\n",
    "            B_star, mu = gram_schmidt(B)\n",
    "            k = max(k-1, 1)\n",
    "    return B\n",
    "\n",
    "# 示例：生成一个随机二十维格基并进行LLL约减\n",
    "basis = random_20d_lattice_basis()\n",
    "print(\"原始二十维格基：\\n\", basis)\n",
    "reduced_basis = lll_reduction(basis)\n",
    "print(\"LLL约减后的二十维格基：\\n\", reduced_basis)\n",
    "\n",
    "# 打印 LLL 规约后的第一个向量\n",
    "print(\"LLL规约后的第一个向量：\", reduced_basis[0])\n",
    "# 打印 LLL 规约后的第一个向量的范数\n",
    "print(\"LLL规约后的第一个向量的范数：\", np.linalg.norm(reduced_basis[0]))"
   ],
   "id": "20051b501c9a5cdd",
   "outputs": [
    {
     "name": "stdout",
     "output_type": "stream",
     "text": [
      "原始二十维格基：\n",
      " [[ 60 -44   4  12  24 -61  -9  77   5  34]\n",
      " [ 44 -71 -75  19 -25 -14  55  70  60  77]\n",
      " [ 29 -24 -47 -90 -14  24 -43 -15  89 -30]\n",
      " [-71  83  44   9  73 -94 -16  99 -29 -47]\n",
      " [-93  10  37 -23  88  41 -59  55  81 -34]\n",
      " [-59 -59  -3 100 -92 -97 -62  -2 -71 -52]\n",
      " [ 52  60 -15 -43 -37   4 -71 -24 -89 -75]\n",
      " [ 89 100 -28  -2  -6 -35 -74   6  49  23]\n",
      " [-59 -15   8  73   7  13  60  12 -92  -5]\n",
      " [ 64 -73  60  39  40  46 -54   1  73  -6]]\n",
      "LLL约减后的二十维格基：\n",
      " [[ -30  -39  -39  -17   -7   37   17   -3   -3  -35]\n",
      " [  30  -83  -35   -5   17  -24    8   74    2   -1]\n",
      " [  -7  -11  -12    0   66  -12  -33   31   77  -15]\n",
      " [  14   12  -40   24  -42   10   47   -4   58   78]\n",
      " [  66   26    4  -73  -73   -1  -27  -43   15   20]\n",
      " [  10   10  -41  -47  -40   43  -42   70  -25  -17]\n",
      " [ -86   21   49  -23   22   53  -26   24    4  -19]\n",
      " [ -16   -6   37   55   -2   11   27   62   22    5]\n",
      " [ -75   21   11  -51   26  -64   33  -20    5  -80]\n",
      " [-115  -20  -31   46 -110  -45  -68  -44  -31    2]]\n",
      "LLL规约后的第一个向量： [-30 -39 -39 -17  -7  37  17  -3  -3 -35]\n",
      "LLL规约后的第一个向量的范数： 84.74078120952154\n"
     ]
    }
   ],
   "execution_count": 30
  }
 ],
 "metadata": {
  "kernelspec": {
   "display_name": "Python 3",
   "language": "python",
   "name": "python3"
  },
  "language_info": {
   "codemirror_mode": {
    "name": "ipython",
    "version": 2
   },
   "file_extension": ".py",
   "mimetype": "text/x-python",
   "name": "python",
   "nbconvert_exporter": "python",
   "pygments_lexer": "ipython2",
   "version": "2.7.6"
  }
 },
 "nbformat": 4,
 "nbformat_minor": 5
}
