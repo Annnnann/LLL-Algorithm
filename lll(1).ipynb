{
 "cells": [
  {
   "metadata": {
    "ExecuteTime": {
     "end_time": "2025-06-24T02:47:52.093043Z",
     "start_time": "2025-06-24T02:47:52.085921Z"
    }
   },
   "cell_type": "code",
   "source": [
    "import numpy as np\n",
    "\n",
    "def generate_random_lattice_basis(low=-10000, high=10001):\n",
    "    while True:\n",
    "        basis = np.random.randint(low, high, size=(10, 10))\n",
    "        if np.linalg.matrix_rank(basis) == 10:\n",
    "            return basis\n",
    "\n",
    "#生成一个随机格基\n",
    "basis = generate_random_lattice_basis()\n",
    "print(basis)\n",
    "# 原始格基中最短的向量\n",
    "shortest_vector = min(basis, key=lambda v: np.linalg.norm(v))\n",
    "print(\"原始格基中最短的向量：\", shortest_vector)\n",
    "print(\"最短向量的范数：\", np.linalg.norm(shortest_vector))"
   ],
   "id": "8000553fa5565031",
   "outputs": [
    {
     "name": "stdout",
     "output_type": "stream",
     "text": [
      "[[ 8659  8372 -3818 -4547  2881  7170  3219 -9257  4902  7938]\n",
      " [-5334 -2258  6495  2469 -9402   384  8347  2810 -2875  2291]\n",
      " [-2745 -1085 -8338 -5388  8632  -210 -6134  9233  1376 -4719]\n",
      " [-9382 -7107  1848 -5746 -8269  7635  1646  2688 -4580   917]\n",
      " [ 6973 -9063  -701  8477  9691  4743  2333   429  -264  4011]\n",
      " [ 2923 -6232 -7013  6435  1901 -8872  9988 -4222 -9356 -9803]\n",
      " [  347 -1327 -7423 -9978  7226  2527 -5928 -3941  9408   129]\n",
      " [ 5236 -7128 -6716  6045  2459 -7860 -9847  9158 -4890 -1082]\n",
      " [ 8511  5244  6809  7162 -2621 -7747  9872  7822 -3114  4432]\n",
      " [-1889 -7129  3678  1008 -4863 -8342 -5320  6335 -9220   392]]\n",
      "原始格基中最短的向量： [-5334 -2258  6495  2469 -9402   384  8347  2810 -2875  2291]\n",
      "最短向量的范数： 16169.693287134422\n"
     ]
    }
   ],
   "execution_count": 10
  },
  {
   "metadata": {
    "ExecuteTime": {
     "end_time": "2025-06-24T02:47:52.112283Z",
     "start_time": "2025-06-24T02:47:52.109330Z"
    }
   },
   "cell_type": "code",
   "source": [
    "def gram_schmidt(B):\n",
    "    n = B.shape[0]\n",
    "    B_star = np.zeros_like(B, dtype=np.float64)\n",
    "    mu = np.zeros((n, n), dtype=np.float64)\n",
    "    for i in range(n):\n",
    "        B_star[i] = B[i]\n",
    "        for j in range(i):\n",
    "            mu[i, j] = np.dot(B[i], B_star[j]) / np.dot(B_star[j], B_star[j])\n",
    "            B_star[i] -= mu[i, j] * B_star[j]\n",
    "    return B_star, mu"
   ],
   "id": "ee912b1b8c65e64a",
   "outputs": [],
   "execution_count": 11
  },
  {
   "metadata": {},
   "cell_type": "markdown",
   "source": [
    "$$\\text{To find the shortest non-zero vector, we use the following proposition: }$$\n",
    "$$\\| b_1 \\| \\le 2^{(n-1)/2)}\\lambda_1 (\\mathcal{L})$$\n",
    "$$\\text{For example, in dimension 10, the inequality becomes: }$$\n",
    "$$\\| b_1 \\| \\leq 16\\lambda_1 (\\mathcal{L}) \\leq 2^{4.5}\\lambda_1 (\\mathcal{L})$$\n",
    "$$\\text{i.e. } \\frac{1}{16}\\| b_1 \\| \\leq \\lambda_1 (\\mathcal{L}) $$\n"
   ],
   "id": "3f5358c22046bdef"
  },
  {
   "metadata": {
    "ExecuteTime": {
     "end_time": "2025-06-24T02:47:52.139678Z",
     "start_time": "2025-06-24T02:47:52.127287Z"
    }
   },
   "cell_type": "code",
   "source": [
    "def lll_reduction(B, delta=0.75):\n",
    "    n = B.shape[0]\n",
    "    B = B.astype(np.int64)\n",
    "    k = 1\n",
    "    B_star, mu = gram_schmidt(B)\n",
    "    while k < n:\n",
    "        for j in range(k-1, -1, -1):\n",
    "            c = int(round(mu[k, j]))\n",
    "            if c != 0:\n",
    "                B[k] -= c * B[j]\n",
    "                B_star, mu = gram_schmidt(B)\n",
    "        if np.dot(B_star[k], B_star[k]) >= (delta - mu[k, k-1]**2) * np.dot(B_star[k-1], B_star[k-1]):\n",
    "            k += 1\n",
    "        else:\n",
    "            B[[k, k-1]] = B[[k-1, k]]\n",
    "            B_star,mu = gram_schmidt(B)\n",
    "            k = max(k-1, 1)\n",
    "    return B\n",
    "\n",
    "# 生成一个随机格基并进行LLL约减\n",
    "basis = generate_random_lattice_basis()\n",
    "print(\"原始二十维格基：\\n\", basis)\n",
    "reduced_basis = lll_reduction(basis)\n",
    "print(\"LLL约减后的二十维格基：\\n\", reduced_basis)\n",
    "\n",
    "print(\"LLL规约后的第一个向量：\", reduced_basis[0])\n",
    "print(\"LLL规约后的第一个向量的范数：\", np.linalg.norm(reduced_basis[0]))"
   ],
   "id": "20051b501c9a5cdd",
   "outputs": [
    {
     "name": "stdout",
     "output_type": "stream",
     "text": [
      "原始二十维格基：\n",
      " [[ 2180 -7505  -249   579  2863  1463  2876  7185  7164  2813]\n",
      " [ 3723  3230  1660  1216 -5069  -357 -6399  7380  8084  3353]\n",
      " [-6660  5336 -5213 -8999  7701 -4260 -9905  7324 -1055 -2881]\n",
      " [-1026  9682  7319 -4455  7791  9265 -2048  5112   944  6626]\n",
      " [-8561 -7081  9496 -4373 -8502 -5325  9965  7643 -4541 -4312]\n",
      " [-4171  9626  6830  5790  4633  7325 -8145  -300  7272  1386]\n",
      " [-7321   831  1666   423 -6734 -6163 -9395 -5798  6096  -675]\n",
      " [-4765  7246  1396 -2393  -450 -1746 -4439  7285  1306 -8108]\n",
      " [-3404 -6375  9741  5356 -9585  2305 -1089 -8944    39 -9222]\n",
      " [-5562 -8842 -8968  3023 -1135 -2312 -9154  1207 -5806  9359]]\n",
      "LLL约减后的二十维格基：\n",
      " [[  5745  -5886   3126   -457    231   5597  -3559   4273   -334     33]\n",
      " [  -550   -487  -3115  -2489  -1871   5832   -552   5602  -2717   4374]\n",
      " [ -3565  -1619  -3375   1036   2632  -4134   6435   2912   7498   2780]\n",
      " [  3723   3230   1660   1216  -5069   -357  -6399   7380   8084   3353]\n",
      " [ -4176    887   2155  -9822  -3576  -4223  -3298   -386   -232   4565]\n",
      " [ -3695   -543  -3604   7756  -5029   3892  -6649    190   3611   -866]\n",
      " [ -2281   2797   8764  -3216 -11727  -1709   2168   -425   2129   -662]\n",
      " [    28  -6389   1245   1873  -4257  -3690   2961    978  -7056   4998]\n",
      " [ -4737    857   2641   -520  -4707  -5436  -1478   8263  -5750  -3110]\n",
      " [ -4143   3237   8075   7663    376   3635  -5184    678    216   6384]]\n",
      "LLL规约后的第一个向量： [ 5745 -5886  3126  -457   231  5597 -3559  4273  -334    33]\n",
      "LLL规约后的第一个向量的范数： 11834.194987408311\n"
     ]
    }
   ],
   "execution_count": 12
  }
 ],
 "metadata": {
  "kernelspec": {
   "display_name": "Python 3",
   "language": "python",
   "name": "python3"
  },
  "language_info": {
   "codemirror_mode": {
    "name": "ipython",
    "version": 2
   },
   "file_extension": ".py",
   "mimetype": "text/x-python",
   "name": "python",
   "nbconvert_exporter": "python",
   "pygments_lexer": "ipython2",
   "version": "2.7.6"
  }
 },
 "nbformat": 4,
 "nbformat_minor": 5
}
